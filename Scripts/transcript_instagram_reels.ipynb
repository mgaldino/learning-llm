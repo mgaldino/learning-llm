{
 "cells": [
  {
   "cell_type": "code",
   "execution_count": 1,
   "id": "a697881e-ee57-4a18-9acf-070958c32367",
   "metadata": {},
   "outputs": [
    {
     "name": "stderr",
     "output_type": "stream",
     "text": [
      "/Users/manoelgaldino/Library/Python/3.9/lib/python/site-packages/urllib3/__init__.py:35: NotOpenSSLWarning: urllib3 v2 only supports OpenSSL 1.1.1+, currently the 'ssl' module is compiled with 'LibreSSL 2.8.3'. See: https://github.com/urllib3/urllib3/issues/3020\n",
      "  warnings.warn(\n"
     ]
    },
    {
     "name": "stdout",
     "output_type": "stream",
     "text": [
      "[Instagram] Extracting URL: https://www.instagram.com/p/DIB121tRIi-/\n",
      "[Instagram] DIB121tRIi-: Setting up session\n",
      "[Instagram] DIB121tRIi-: Downloading JSON metadata\n",
      "[info] DIB121tRIi-: Downloading 1 format(s): 3\n",
      "[download] Destination: Video by felipeneto.mp4\n",
      "[download] 100% of   15.31MiB in 00:00:00 at 22.61MiB/s  \n"
     ]
    }
   ],
   "source": [
    "import yt_dlp\n",
    "\n",
    "def download_instagram_video(url):\n",
    "    ydl_opts = {\n",
    "        'outtmpl': '%(title)s.%(ext)s',  # Define o nome do arquivo de saída\n",
    "    }\n",
    "    with yt_dlp.YoutubeDL(ydl_opts) as ydl:\n",
    "        ydl.download([url])\n",
    "\n",
    "if __name__ == '__main__':\n",
    "    video_url = \"https://www.instagram.com/p/DIB121tRIi-/\"\n",
    "    download_instagram_video(video_url)\n"
   ]
  },
  {
   "cell_type": "code",
   "execution_count": 4,
   "id": "de95e062-9217-485e-8721-936473dbba42",
   "metadata": {},
   "outputs": [
    {
     "name": "stderr",
     "output_type": "stream",
     "text": [
      "Device set to use cpu\n",
      "/Users/manoelgaldino/Library/Python/3.9/lib/python/site-packages/transformers/models/whisper/generation_whisper.py:573: FutureWarning: The input name `inputs` is deprecated. Please make sure to use `input_features` instead.\n",
      "  warnings.warn(\n",
      "Due to a bug fix in https://github.com/huggingface/transformers/pull/28687 transcription using a multilingual Whisper will default to language detection followed by transcription instead of translation to English.This might be a breaking change for your use case. If you want to instead always translate your audio to English, make sure to pass `language='en'`.\n"
     ]
    },
    {
     "name": "stdout",
     "output_type": "stream",
     "text": [
      "Transcrição:\n",
      " Guerra é paz. Liberdade é escravidão. Ignorância é força. Camaradas, aqui é o grande irmão. Bom, gente, é óbvio que eu não vou me candidatar a coisa alguma. E eu espero do fundo do coração que vocês não tenham acreditado. O que eu queria era chamar a sua atenção. Então, preste atenção! Tudo que eu falei naquele vídeo que eu me candidatei à presidência da república é o O oposto do que eu acredito. Foram falas autoritárias que eu fiz de propósito. E se você acreditou, ou pior, se você gostou do que eu falei, talvez você precise ler um pouco mais. A literatura, ela é a maior arma que uma sociedade tem pra enfrentar qualquer tipo de autoritarismo. Os livros, eles têm o poder de transformar esse país e com certeza pra melhor. Por isso eu fundei o meu clube do livro e por isso a Audible me escolheu pra vir aqui falar com vocês. Agora vem a bomba! Se você já teve contato com a obra 1984, deve ter percebido que o meu discurso falso do vídeo de ontem Foi totalmente inspirado no governo ditatorial que tá lá na história do livro. Inclusive, muitas das frases foram copiadas pra vocês perceberem. É claro que eu não vou lançar rede social nenhuma pra monitorar, pra controlar as pessoas. Afinal, infelizmente, isso já acontece. Mas presta atenção, a Audible tá lançando agora o Audible Original do livro 1984. O grande clássico do George Orwell. Em uma versão dramatizada e com áudio imersivo em Dolby Atmos. Não é um audiolivro simplesmente narrado, gente. É dramatizado e com um elenco extraordinário. A gente tá falando de Lázaro Ramos, de Mateus Solano, de Mílian Cortais, de Alice Carvalho. Gente, eu comecei a ouvir. E eu preciso falar que é totalmente diferente de tudo que vocês já vivenciaram com relação a livros, com relação a histórias, audiolivros, não importa. Ler ou ouvir 1984 nesse momento é crucial. O mundo tá cada vez mais violento, tá cada vez mais perigoso de viver, inclusive, uma versão realista do que acontece nesse livro. Inclusive, se você já leu, eu sugiro, de verdade, sugiro do fundo do coração, ouça o livro agora, pelo Audible Original do livro 1984. Se você não leu, gente, de verdade, você tem que fazer isso agora. A Audible é um serviço de audiolivros que você opta pela assinatura ou pela compra à la carte de cada livro. E a melhor parte é a seguinte, você tem 30 dias de teste grátis ou 3 meses de graça se você for membro Amazon Prime. Você pode ouvir sem estar conectado na internet. O mergulho na obra de 1984 vai ser uma experiência inesquecível, com uma trilha e uma produção sonora Que garantiu uma forma absolutamente nova de experimentar literatura. O Audible Original 1984 tem o poder de transformar a sua vida e a sua percepção de mundo. Entra agora em audible.com.br e quebre o silêncio ouvindo.\n"
     ]
    }
   ],
   "source": [
    "import torch\n",
    "from transformers import AutoModelForSpeechSeq2Seq, AutoProcessor, pipeline\n",
    "\n",
    "# Configuração do dispositivo e tipo de dados\n",
    "device = \"cuda:0\" if torch.cuda.is_available() else \"cpu\"\n",
    "torch_dtype = torch.float16 if torch.cuda.is_available() else torch.float32\n",
    "\n",
    "model_id = \"openai/whisper-large-v3-turbo\"\n",
    "\n",
    "# Carrega o modelo com as configurações definidas\n",
    "model = AutoModelForSpeechSeq2Seq.from_pretrained(\n",
    "    model_id,\n",
    "    torch_dtype=torch_dtype,\n",
    "    low_cpu_mem_usage=True,\n",
    "    use_safetensors=True\n",
    ")\n",
    "model.to(device)\n",
    "\n",
    "# Carrega o processador (tokenizer e feature extractor)\n",
    "processor = AutoProcessor.from_pretrained(model_id)\n",
    "\n",
    "# Configura a pipeline para reconhecimento automático de fala\n",
    "pipe = pipeline(\n",
    "    \"automatic-speech-recognition\",\n",
    "    model=model,\n",
    "    tokenizer=processor.tokenizer,\n",
    "    feature_extractor=processor.feature_extractor,\n",
    "    torch_dtype=torch_dtype,\n",
    "    device=device,\n",
    ")\n",
    "\n",
    "# Caminho do arquivo de vídeo\n",
    "video_file = \"Video by FelipeNeto.mp4\"\n",
    "\n",
    "# Executa a transcrição com return_timestamps=True para long-form generation\n",
    "transcription = pipe(video_file, return_timestamps=True)\n",
    "\n",
    "print(\"Transcrição:\")\n",
    "print(transcription[\"text\"])\n",
    "\n"
   ]
  },
  {
   "cell_type": "code",
   "execution_count": null,
   "id": "1c482f92-949b-454c-baad-122e3867bd4b",
   "metadata": {},
   "outputs": [],
   "source": []
  }
 ],
 "metadata": {
  "kernelspec": {
   "display_name": "Python 3 (ipykernel)",
   "language": "python",
   "name": "python3"
  },
  "language_info": {
   "codemirror_mode": {
    "name": "ipython",
    "version": 3
   },
   "file_extension": ".py",
   "mimetype": "text/x-python",
   "name": "python",
   "nbconvert_exporter": "python",
   "pygments_lexer": "ipython3",
   "version": "3.9.6"
  }
 },
 "nbformat": 4,
 "nbformat_minor": 5
}
